{
  "cells": [
    {
      "cell_type": "markdown",
      "metadata": {
        "id": "view-in-github",
        "colab_type": "text"
      },
      "source": [
        "<a href=\"https://colab.research.google.com/github/rabiayilmazz/Android/blob/main/steganography.ipynb\" target=\"_parent\"><img src=\"https://colab.research.google.com/assets/colab-badge.svg\" alt=\"Open In Colab\"/></a>"
      ]
    },
    {
      "cell_type": "code",
      "execution_count": 32,
      "metadata": {
        "id": "4KS6VL1JJh4S"
      },
      "outputs": [],
      "source": [
        "# Kütüpaneler\n",
        "\n",
        "import cv2\n",
        "import numpy as np\n",
        "import types\n",
        "from google.colab.patches import cv2_imshow \n",
        " "
      ]
    },
    {
      "cell_type": "code",
      "execution_count": 33,
      "metadata": {
        "id": "arJ6ww2QLCnr",
        "colab": {
          "base_uri": "https://localhost:8080/"
        },
        "outputId": "48d9d22a-803f-4d78-998b-ea20bdad0bbd"
      },
      "outputs": [
        {
          "output_type": "stream",
          "name": "stdout",
          "text": [
            "Drive already mounted at /content/drive; to attempt to forcibly remount, call drive.mount(\"/content/drive\", force_remount=True).\n"
          ]
        }
      ],
      "source": [
        "# drive bağlantısı\n",
        "\n",
        "from google.colab import drive\n",
        "drive.mount('/content/drive')\n"
      ]
    },
    {
      "cell_type": "code",
      "execution_count": 34,
      "metadata": {
        "id": "bGJuOt70Jx7o"
      },
      "outputs": [],
      "source": [
        "# format değişimi\n",
        "\n",
        "def messageToBinary(message):\n",
        "  if type(message) == str:\n",
        "    return ''.join([ format(ord(i), \"08b\") for i in message ])\n",
        "  \n",
        "  elif type(message) == bytes or type(message) == np.ndarray:\n",
        "    return [ format(i, \"08b\") for i in message ]\n",
        "  \n",
        "  elif type(message) == int or type(message) == np.uint8:\n",
        "    return format(message, \"08b\")\n",
        "  \n",
        "  else:\n",
        "    raise TypeError(\"Input type not supported\")"
      ]
    },
    {
      "cell_type": "code",
      "execution_count": 35,
      "metadata": {
        "id": "mBvkmxZ638X1",
        "colab": {
          "base_uri": "https://localhost:8080/",
          "height": 35
        },
        "outputId": "090481d1-8817-46ca-8653-9da9a630baa6"
      },
      "outputs": [
        {
          "output_type": "execute_result",
          "data": {
            "text/plain": [
              "'0111001001100001011000100110100101100001'"
            ],
            "application/vnd.google.colaboratory.intrinsic+json": {
              "type": "string"
            }
          },
          "metadata": {},
          "execution_count": 35
        }
      ],
      "source": [
        "messageToBinary(\"rabia\")"
      ]
    },
    {
      "cell_type": "code",
      "execution_count": 36,
      "metadata": {
        "id": "M2lKIXag7PbS",
        "colab": {
          "base_uri": "https://localhost:8080/"
        },
        "outputId": "588ec1ec-21d0-43b8-c3ba-68d452bac4c2"
      },
      "outputs": [
        {
          "output_type": "execute_result",
          "data": {
            "text/plain": [
              "['01110010', '01100001', '01100010', '01101001', '01100001']"
            ]
          },
          "metadata": {},
          "execution_count": 36
        }
      ],
      "source": [
        "messageToBinary(str.encode(\"rabia\"))"
      ]
    },
    {
      "cell_type": "code",
      "execution_count": 37,
      "metadata": {
        "id": "lPTNUKYA_vdL",
        "colab": {
          "base_uri": "https://localhost:8080/",
          "height": 35
        },
        "outputId": "aaf572d4-f810-4313-85b3-05d45e3fd297"
      },
      "outputs": [
        {
          "output_type": "execute_result",
          "data": {
            "text/plain": [
              "'001000110010001100100011'"
            ],
            "application/vnd.google.colaboratory.intrinsic+json": {
              "type": "string"
            }
          },
          "metadata": {},
          "execution_count": 37
        }
      ],
      "source": [
        "messageToBinary(\"###\")"
      ]
    },
    {
      "cell_type": "code",
      "execution_count": 38,
      "metadata": {
        "id": "Mc1R4lv3J6sM"
      },
      "outputs": [],
      "source": [
        "# Alınan mesajı resme gizler ve resmin pixellerini döndürür\n",
        "\n",
        "def hideData(image, secret_message):\n",
        "\n",
        "  n_bytes = image.shape[0] * image.shape[1] * 3 // 8\n",
        "  print(\"Şİfrelenebilecek maximum byte:\", n_bytes)\n",
        "\n",
        "  # girilen metnin boyutu resmin boyutundan büyük olmamalı\n",
        "  if len(secret_message) > n_bytes:\n",
        "      raise ValueError(\"Error encountered insufficient bytes, need bigger image or less data !!\")\n",
        "  \n",
        "  secret_message += \"#####\" # sonlandırma için \n",
        "  print(\"secret_message:  \"+secret_message)\n",
        "  data_index = 0\n",
        "\n",
        "  # 10110101100101\n",
        "  binary_secret_msg = messageToBinary(secret_message)\n",
        "\n",
        "  data_len = len(binary_secret_msg)\n",
        "\n",
        "  for values in image:\n",
        "      for pixel in values:\n",
        "          # rgb den binarye\n",
        "          r, g, b = messageToBinary(pixel)\n",
        "\n",
        "          if data_index < data_len:\n",
        "              print(\"binary_secret_msg[data_index] \" + binary_secret_msg[data_index])\n",
        "              print(\"r \" + r)\n",
        "              print(\"r[:-1] + binary_secret_msg[data_index] \" + r[:-1] + binary_secret_msg[data_index])\n",
        "              pixel[0] = int(r[:-1] + binary_secret_msg[data_index], 2)\n",
        "              data_index += 1\n",
        "\n",
        "\n",
        "          if data_index < data_len:\n",
        "              pixel[1] = int(g[:-1] + binary_secret_msg[data_index], 2)\n",
        "              data_index += 1\n",
        "\n",
        "          if data_index < data_len:\n",
        "              pixel[2] = int(b[:-1] + binary_secret_msg[data_index], 2)\n",
        "              data_index += 1\n",
        "\n",
        "          if data_index >= data_len:\n",
        "              break\n",
        "\n",
        "  return image"
      ]
    },
    {
      "cell_type": "code",
      "execution_count": 39,
      "metadata": {
        "id": "ErBVzuUvJ_oJ"
      },
      "outputs": [],
      "source": [
        "def showData(image):\n",
        "\n",
        "  binary_data = \"\"\n",
        "  for values in image:\n",
        "      for pixel in values:\n",
        "          r, g, b = messageToBinary(pixel) #resime yerleştirilip pixeli değiştirilen renklerin değerleri tekrar binarye çevirme\n",
        "          binary_data += r[-1] #son değere gizlenen binaryi okuyup binary_data a yazma\n",
        "          binary_data += g[-1] \n",
        "          binary_data += b[-1] \n",
        "  # 8 er şekilde ayırmak içn\n",
        "  all_bytes = [ binary_data[i: i+8] for i in range(0, len(binary_data), 8) ]\n",
        "  # convert from bits to characters\n",
        "  decoded_data = \"\"\n",
        "  for byte in all_bytes:\n",
        "      decoded_data += chr(int(byte, 2))\n",
        "      print(\"decoded_data \" + decoded_data)\n",
        "      if decoded_data[-5:] == \"#####\": # \"#####\" i görünce sonlansın \n",
        "          break\n",
        "  #print(decoded_data) # hastaglı deşifrelenemiş veri\n",
        "  return decoded_data[:-5] # hastagsız asıl veri"
      ]
    },
    {
      "cell_type": "code",
      "execution_count": 40,
      "metadata": {
        "id": "3YQ5pkoyKCpP"
      },
      "outputs": [],
      "source": [
        "def encode_text(): \n",
        "  image_name = input(\"Resim adı girini (örnek: a.png): \") \n",
        "  image = cv2.imread(image_name) # resim nesnesine dönüştürüp pixel ve shape okumak için\n",
        "  \n",
        "  print(\"Resmin shape değeri: \",image.shape) # alınan resmin x ve y eksenindeki uzunluğu\n",
        "  print(\"Tekrar boyutlanmış - içerisine veri gizlenecek olan resim: \")\n",
        "  resized_image = cv2.resize(image, (30, 30)) # tekrar boyutlandırmak için - saklanacakverinin boyutuna etki eder\n",
        "  cv2_imshow(resized_image) # resim görüntüleme\n",
        "  \n",
        "      \n",
        "  data = input(\"Resme gizlenecek veriyi giriniz : \") \n",
        "  if (len(data) == 0): \n",
        "    raise ValueError('HATA! Boş geçilemez. Lütfen veri giriniz')\n",
        "  \n",
        "  filename = input(\"Metin gizlenmiş resmin adını giriniz (örnek: gizli_!_test.png): \")\n",
        "  encoded_image = hideData(image, data) # veri gizleme fonksiyonuna alınan metni ve resmi gönderip resme veriyi gizlemek için yazdığım fonksiyon\n",
        "  cv2.imwrite(filename, encoded_image) # verinin gizlendiği resmin ekrana basılması için\n",
        "\n",
        " "
      ]
    },
    {
      "cell_type": "code",
      "execution_count": 41,
      "metadata": {
        "id": "DfLGGutSKF6j"
      },
      "outputs": [],
      "source": [
        "def decode_text():\n",
        "  image_name = input(\"Veri saklanan resmin adını giriniz (örnek: gizli_!_test.png) :\") \n",
        "  image = cv2.imread(image_name) # resmi işlenebilir hale getirebilmek için\n",
        "\n",
        "  print(\"Resme gizlenen metin: \")\n",
        "  resized_image = cv2.resize(image, (30,30))  \n",
        "  cv2_imshow(resized_image) \n",
        "    \n",
        "  text = showData(image) # gizlenen metni deşifrelemek için\n",
        "  return text\n"
      ]
    },
    {
      "cell_type": "code",
      "execution_count": 42,
      "metadata": {
        "id": "UfZ3TGCjKKv0"
      },
      "outputs": [],
      "source": [
        "def Steganography(): \n",
        "    a = input(\" Steganography \\n 1. Veri sakla \\n 2. Saklananveriyi oku \\n Yukarıdaki seçeneklerden birini seçiniz: \")\n",
        "    userinput = int(a)\n",
        "    if (userinput == 1):\n",
        "      print(\"\\nVeri gizleniyor....\")\n",
        "      encode_text() \n",
        "          \n",
        "    elif (userinput == 2):\n",
        "      print(\"\\nVeri deşifreleniyor....\") \n",
        "      print(\"Deşifrelenmiş verinin sonucu \" + decode_text()) \n",
        "    else: \n",
        "        raise Exception(\"Lütfen yukarıdaki gibi geçerli ifade giriniz!\") "
      ]
    },
    {
      "cell_type": "code",
      "source": [
        "Steganography() "
      ],
      "metadata": {
        "colab": {
          "base_uri": "https://localhost:8080/",
          "height": 1000
        },
        "id": "UNYCeKWSo_PR",
        "outputId": "d8b9184b-fa29-4e62-c11b-7f58edffdcc8"
      },
      "execution_count": 43,
      "outputs": [
        {
          "output_type": "stream",
          "name": "stdout",
          "text": [
            " Steganography \n",
            " 1. Veri sakla \n",
            " 2. Saklananveriyi oku \n",
            " Yukarıdaki seçeneklerden birini seçiniz: 1\n",
            "\n",
            "Veri gizleniyor....\n",
            "Resim adı girini (örnek: a.png): a.png\n",
            "Resmin shape değeri:  (353, 572, 3)\n",
            "Tekrar boyutlanmış - içerisine veri gizlenecek olan resim: \n"
          ]
        },
        {
          "output_type": "display_data",
          "data": {
            "text/plain": [
              "<PIL.Image.Image image mode=RGB size=30x30 at 0x7F1D7E013050>"
            ],
            "image/png": "[encoded data removed]"
          },
          "metadata": {}
        },
        {
          "output_type": "stream",
          "name": "stdout",
          "text": [
            "Resme gizlenecek veriyi giriniz : selam naber\n",
            "Metin gizlenmiş resmin adını giriniz (örnek: gizli_!_test.png): gizli_!_test.png\n",
            "Şİfrelenebilecek maximum byte: 75718\n",
            "secret_message:  selam naber#####\n",
            "binary_secret_msg[data_index] 0\n",
            "r 00011110\n",
            "r[:-1] + binary_secret_msg[data_index] 00011110\n",
            "binary_secret_msg[data_index] 1\n",
            "r 00011110\n",
            "r[:-1] + binary_secret_msg[data_index] 00011111\n",
            "binary_secret_msg[data_index] 1\n",
            "r 11110001\n",
            "r[:-1] + binary_secret_msg[data_index] 11110001\n",
            "binary_secret_msg[data_index] 1\n",
            "r 00011110\n",
            "r[:-1] + binary_secret_msg[data_index] 00011111\n",
            "binary_secret_msg[data_index] 0\n",
            "r 11011011\n",
            "r[:-1] + binary_secret_msg[data_index] 11011010\n",
            "binary_secret_msg[data_index] 1\n",
            "r 10000011\n",
            "r[:-1] + binary_secret_msg[data_index] 10000011\n",
            "binary_secret_msg[data_index] 1\n",
            "r 00011110\n",
            "r[:-1] + binary_secret_msg[data_index] 00011111\n",
            "binary_secret_msg[data_index] 1\n",
            "r 10101000\n",
            "r[:-1] + binary_secret_msg[data_index] 10101001\n",
            "binary_secret_msg[data_index] 0\n",
            "r 11111111\n",
            "r[:-1] + binary_secret_msg[data_index] 11111110\n",
            "binary_secret_msg[data_index] 0\n",
            "r 00011110\n",
            "r[:-1] + binary_secret_msg[data_index] 00011110\n",
            "binary_secret_msg[data_index] 0\n",
            "r 00011110\n",
            "r[:-1] + binary_secret_msg[data_index] 00011110\n",
            "binary_secret_msg[data_index] 1\n",
            "r 00011110\n",
            "r[:-1] + binary_secret_msg[data_index] 00011111\n",
            "binary_secret_msg[data_index] 1\n",
            "r 00011110\n",
            "r[:-1] + binary_secret_msg[data_index] 00011111\n",
            "binary_secret_msg[data_index] 1\n",
            "r 11011011\n",
            "r[:-1] + binary_secret_msg[data_index] 11011011\n",
            "binary_secret_msg[data_index] 1\n",
            "r 11000101\n",
            "r[:-1] + binary_secret_msg[data_index] 11000101\n",
            "binary_secret_msg[data_index] 0\n",
            "r 00011110\n",
            "r[:-1] + binary_secret_msg[data_index] 00011110\n",
            "binary_secret_msg[data_index] 0\n",
            "r 00011110\n",
            "r[:-1] + binary_secret_msg[data_index] 00011110\n",
            "binary_secret_msg[data_index] 0\n",
            "r 11111111\n",
            "r[:-1] + binary_secret_msg[data_index] 11111110\n",
            "binary_secret_msg[data_index] 1\n",
            "r 10000011\n",
            "r[:-1] + binary_secret_msg[data_index] 10000011\n",
            "binary_secret_msg[data_index] 1\n",
            "r 11000101\n",
            "r[:-1] + binary_secret_msg[data_index] 11000101\n",
            "binary_secret_msg[data_index] 0\n",
            "r 11000101\n",
            "r[:-1] + binary_secret_msg[data_index] 11000100\n",
            "binary_secret_msg[data_index] 1\n",
            "r 00011110\n",
            "r[:-1] + binary_secret_msg[data_index] 00011111\n",
            "binary_secret_msg[data_index] 1\n",
            "r 10101000\n",
            "r[:-1] + binary_secret_msg[data_index] 10101001\n",
            "binary_secret_msg[data_index] 0\n",
            "r 11110001\n",
            "r[:-1] + binary_secret_msg[data_index] 11110000\n",
            "binary_secret_msg[data_index] 0\n",
            "r 00011110\n",
            "r[:-1] + binary_secret_msg[data_index] 00011110\n",
            "binary_secret_msg[data_index] 0\n",
            "r 11011011\n",
            "r[:-1] + binary_secret_msg[data_index] 11011010\n",
            "binary_secret_msg[data_index] 0\n",
            "r 11000101\n",
            "r[:-1] + binary_secret_msg[data_index] 11000100\n",
            "binary_secret_msg[data_index] 1\n",
            "r 00011110\n",
            "r[:-1] + binary_secret_msg[data_index] 00011111\n",
            "binary_secret_msg[data_index] 0\n",
            "r 00011110\n",
            "r[:-1] + binary_secret_msg[data_index] 00011110\n",
            "binary_secret_msg[data_index] 0\n",
            "r 11111111\n",
            "r[:-1] + binary_secret_msg[data_index] 11111110\n",
            "binary_secret_msg[data_index] 1\n",
            "r 10000011\n",
            "r[:-1] + binary_secret_msg[data_index] 10000011\n",
            "binary_secret_msg[data_index] 0\n",
            "r 10101000\n",
            "r[:-1] + binary_secret_msg[data_index] 10101000\n",
            "binary_secret_msg[data_index] 0\n",
            "r 11110001\n",
            "r[:-1] + binary_secret_msg[data_index] 11110000\n",
            "binary_secret_msg[data_index] 0\n",
            "r 00011110\n",
            "r[:-1] + binary_secret_msg[data_index] 00011110\n",
            "binary_secret_msg[data_index] 1\n",
            "r 00011110\n",
            "r[:-1] + binary_secret_msg[data_index] 00011111\n",
            "binary_secret_msg[data_index] 0\n",
            "r 11011011\n",
            "r[:-1] + binary_secret_msg[data_index] 11011010\n",
            "binary_secret_msg[data_index] 0\n",
            "r 11000101\n",
            "r[:-1] + binary_secret_msg[data_index] 11000100\n",
            "binary_secret_msg[data_index] 1\n",
            "r 00011110\n",
            "r[:-1] + binary_secret_msg[data_index] 00011111\n",
            "binary_secret_msg[data_index] 1\n",
            "r 11110001\n",
            "r[:-1] + binary_secret_msg[data_index] 11110001\n",
            "binary_secret_msg[data_index] 0\n",
            "r 00011110\n",
            "r[:-1] + binary_secret_msg[data_index] 00011110\n",
            "binary_secret_msg[data_index] 0\n",
            "r 00011110\n",
            "r[:-1] + binary_secret_msg[data_index] 00011110\n",
            "binary_secret_msg[data_index] 0\n",
            "r 11000101\n",
            "r[:-1] + binary_secret_msg[data_index] 11000100\n",
            "binary_secret_msg[data_index] 1\n",
            "r 11000101\n",
            "r[:-1] + binary_secret_msg[data_index] 11000101\n"
          ]
        }
      ]
    },
    {
      "cell_type": "code",
      "execution_count": 44,
      "metadata": {
        "id": "Oq4TG6fHVPtc",
        "colab": {
          "base_uri": "https://localhost:8080/",
          "height": 481
        },
        "outputId": "9e0e4ce5-28a9-48e9-b47d-863b874ce4f6"
      },
      "outputs": [
        {
          "output_type": "stream",
          "name": "stdout",
          "text": [
            " Steganography \n",
            " 1. Veri sakla \n",
            " 2. Saklananveriyi oku \n",
            " Yukarıdaki seçeneklerden birini seçiniz: 2\n",
            "\n",
            "Veri deşifreleniyor....\n",
            "Veri saklanan resmin adını giriniz (örnek: gizli_!_test.png) :gizli_!_test.png\n",
            "Resme gizlenen metin: \n"
          ]
        },
        {
          "output_type": "display_data",
          "data": {
            "text/plain": [
              "<PIL.Image.Image image mode=RGB size=30x30 at 0x7F1D8B51F0D0>"
            ],
            "image/png": "[encoded data removed]"
          },
          "metadata": {}
        },
        {
          "output_type": "stream",
          "name": "stdout",
          "text": [
            "decoded_data s\n",
            "decoded_data se\n",
            "decoded_data sel\n",
            "decoded_data sela\n",
            "decoded_data selam\n",
            "decoded_data selam \n",
            "decoded_data selam n\n",
            "decoded_data selam na\n",
            "decoded_data selam nab\n",
            "decoded_data selam nabe\n",
            "decoded_data selam naber\n",
            "decoded_data selam naber#\n",
            "decoded_data selam naber##\n",
            "decoded_data selam naber###\n",
            "decoded_data selam naber####\n",
            "decoded_data selam naber#####\n",
            "Deşifrelenmiş verinin sonucu selam naber\n"
          ]
        }
      ],
      "source": [
        "Steganography()"
      ]
    }
  ],
  "metadata": {
    "colab": {
      "collapsed_sections": [],
      "name": "steganography.ipynb",
      "provenance": [],
      "authorship_tag": "ABX9TyPeb7KlaENqyf4AqMY0QpiI",
      "include_colab_link": true
    },
    "kernelspec": {
      "display_name": "Python 3",
      "name": "python3"
    },
    "language_info": {
      "name": "python"
    }
  },
  "nbformat": 4,
  "nbformat_minor": 0
}